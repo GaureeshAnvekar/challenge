{
 "cells": [
  {
   "cell_type": "code",
   "execution_count": 17,
   "metadata": {
    "colab": {},
    "colab_type": "code",
    "id": "iqU17eoHWUms"
   },
   "outputs": [],
   "source": [
    "#All the necessary imports\n",
    "import os\n",
    "import sys\n",
    "import scipy.io\n",
    "import scipy.misc\n",
    "import matplotlib.pyplot as plt\n",
    "from matplotlib.pyplot import imshow\n",
    "from PIL import Image\n",
    "import numpy as np\n",
    "import tensorflow as tf\n",
    "from keras.applications.vgg19 import VGG19 #This is to use a pre-trained network VGG19\n",
    "\n",
    "%matplotlib inline"
   ]
  },
  {
   "cell_type": "code",
   "execution_count": 39,
   "metadata": {
    "colab": {},
    "colab_type": "code",
    "id": "Et2mC641WUmz"
   },
   "outputs": [],
   "source": [
    "\"\"\"\n",
    "This cell consists of a class \"CONFIG\" which has all the necessary constants used later.\n",
    "Also there are helper functions like \"load_vgg_model\", \"generate_noise_image\", \"reshape_and_normalize_image\", \"save_image\"\n",
    "\"\"\"\n",
    "\n",
    "class CONFIG:\n",
    "    IMAGE_WIDTH = 400                                                   #The width of input image will be rescaled to 400.\n",
    "    IMAGE_HEIGHT = 300                                                  #The height of input image will be rescaled to 300.\n",
    "    COLOR_CHANNELS = 3\n",
    "    \n",
    "    NOISE_RATIO = 0.8                                                   #This ratio will affect how noisy our initial random \n",
    "                                                                        #image will be compared to content image.\n",
    "    \n",
    "    MEANS = np.array([123.68, 116.779, 103.939]).reshape((1,1,1,3))     #These means were already calculated during training of VGG19\n",
    "                                                                        #network based on various images. So here the mean is of each channel i.e Red,Green,Blue\n",
    "                                                                        #and will be used for normalizing the input\n",
    "\n",
    "\n",
    "\n",
    "def load_vgg_model():\n",
    "    \"\"\"\n",
    "    VGG19 actually uses maxpool at different layers, but the paper \"A neural algorithm for artistic style by Leon A. Gatys, Alexander S.Ecker, Mathias Bethge\n",
    "    indicates that using AveragePooling yields better results. Also the last few fully connected layers of VGG19 are not used. This function is mainly to explicitly\n",
    "    replace MaxPool with AveragePooling and also to ignore the last fully connected layers. Also individual layers will be stored in a python dictionary to make things\n",
    "    easy\n",
    "    \"\"\"\n",
    "    \n",
    "    vgg = VGG19(weights=\"imagenet\")\n",
    "\n",
    "    vgg_layers = vgg.layers\n",
    "    \n",
    "    def _weights(layer):\n",
    "        \"\"\"\n",
    "        Return the weights and bias from the VGG model for a given layer.\n",
    "        \"\"\"\n",
    "        wb = vgg_layers[layer].get_weights()\n",
    "        W = wb[0]\n",
    "        b = wb[1]\n",
    "     \n",
    "        return W, b\n",
    "\n",
    "    def _relu(conv2d_layer):\n",
    "        \"\"\"\n",
    "        Return the RELU function applied on a given layer\n",
    "        \"\"\"\n",
    "        return tf.nn.relu(conv2d_layer)\n",
    "\n",
    "    def _conv2d(prev_layer, layer):\n",
    "        \"\"\"\n",
    "        Return the Conv2D layer using the weights, biases from the VGG\n",
    "        model at 'layer'.\n",
    "        \"\"\"\n",
    "        W, b = _weights(layer)\n",
    "        W = tf.constant(W)\n",
    "        b = tf.constant(np.reshape(b, (b.size)))\n",
    "        return tf.nn.conv2d(prev_layer, filter=W, strides=[1, 1, 1, 1], padding='SAME') + b  #The same weights are used as in VGG19 and strides of length 1\n",
    "\n",
    "    def _conv2d_relu(prev_layer, layer):\n",
    "        \"\"\"\n",
    "        Return the Conv2D + RELU layer using the weights, biases from the VGG\n",
    "        model at 'layer'.\n",
    "        \"\"\"\n",
    "        return _relu(_conv2d(prev_layer, layer))\n",
    "\n",
    "    def _avgpool(prev_layer):\n",
    "        \"\"\"\n",
    "        Return the AveragePooling layer.\n",
    "        \"\"\"\n",
    "        return tf.nn.avg_pool(prev_layer, ksize=[1, 2, 2, 1], strides=[1, 2, 2, 1], padding='SAME')\n",
    "\n",
    "    \n",
    "    \n",
    "    #Following variable \"graph\" is just a dictionary to store intermediate VGG layers\n",
    "    graph = {}\n",
    "    graph['input']   = tf.Variable(np.zeros((1, 300, 400, 3)), dtype = 'float32')  #This is just creating a TF variable of shape as our re-scaled input image\n",
    "                                                                                   #and data type will be float32\n",
    "    graph['conv1_1']  = _conv2d_relu(graph['input'], 1)\n",
    "    graph['conv1_2']  = _conv2d_relu(graph['conv1_1'], 2)\n",
    "    graph['avgpool1'] = _avgpool(graph['conv1_2'])                                 #This is where we replace MaxPool with AvgPool in VGG19\n",
    "    graph['conv2_1']  = _conv2d_relu(graph['avgpool1'], 4)\n",
    "    graph['conv2_2']  = _conv2d_relu(graph['conv2_1'], 5)\n",
    "    graph['avgpool2'] = _avgpool(graph['conv2_2'])                                 #Replaced MaxPool with AvgPool\n",
    "    graph['conv3_1']  = _conv2d_relu(graph['avgpool2'], 7)\n",
    "    graph['conv3_2']  = _conv2d_relu(graph['conv3_1'], 8)\n",
    "    graph['conv3_3']  = _conv2d_relu(graph['conv3_2'], 9)\n",
    "    graph['conv3_4']  = _conv2d_relu(graph['conv3_3'], 10)\n",
    "    graph['avgpool3'] = _avgpool(graph['conv3_4'])                                 #Replaced MaxPool with AvgPool\n",
    "    graph['conv4_1']  = _conv2d_relu(graph['avgpool3'], 12)          \n",
    "    graph['conv4_2']  = _conv2d_relu(graph['conv4_1'], 13)\n",
    "    graph['conv4_3']  = _conv2d_relu(graph['conv4_2'], 14)\n",
    "    graph['conv4_4']  = _conv2d_relu(graph['conv4_3'], 15)\n",
    "    graph['avgpool4'] = _avgpool(graph['conv4_4'])                                 #Replaced MaxPool with AvgPool\n",
    "    graph['conv5_1']  = _conv2d_relu(graph['avgpool4'], 17)\n",
    "    graph['conv5_2']  = _conv2d_relu(graph['conv5_1'], 18)\n",
    "    graph['conv5_3']  = _conv2d_relu(graph['conv5_2'], 19)\n",
    "    graph['conv5_4']  = _conv2d_relu(graph['conv5_3'], 20)\n",
    "    graph['avgpool5'] = _avgpool(graph['conv5_4'])                                 #Replaced MaxPool with AvgPool\n",
    "                                                                                   #Also ignored the fully-connected layers of VGG19\n",
    "    \n",
    "    return graph\n",
    "\n",
    "\n",
    "  \n",
    "def generate_noise_image(content_image, noise_ratio = CONFIG.NOISE_RATIO):\n",
    "    \"\"\"\n",
    "    Generates a noisy image by adding random noise to the content_image\n",
    "    \"\"\"\n",
    "    \n",
    "    # Generate a random noise_image\n",
    "    noise_image = np.random.uniform(-20, 20, (1, CONFIG.IMAGE_HEIGHT, CONFIG.IMAGE_WIDTH, CONFIG.COLOR_CHANNELS)).astype('float32')\n",
    "    \n",
    "    # Set the input_image to be a weighted average of the content_image and a noise_image\n",
    "    input_image = noise_image * noise_ratio + content_image * (1 - noise_ratio)\n",
    "    \n",
    "    #input_image = input_image - CONFIG.MEANS\n",
    "    \n",
    "    return input_image\n",
    "  \n",
    "  \n",
    "def reshape_and_normalize_image(image):\n",
    "    \"\"\"\n",
    "    Reshape and normalize the input image (content or style)\n",
    "    \"\"\"\n",
    "    \n",
    "    # Reshape image to mach expected input of VGG16\n",
    "    image = np.reshape(image, ((1,) + image.shape))\n",
    "    \n",
    "    # Substract the mean to match the expected input of VGG16\n",
    "    image = image - CONFIG.MEANS\n",
    "    \n",
    "    return image\n",
    "\n",
    "\n",
    "def save_image(path, image):\n",
    "    \n",
    "    # Un-normalize the image so that it looks good\n",
    "    image = image + CONFIG.MEANS\n",
    "    \n",
    "    # Clip and Save the image\n",
    "    image = np.clip(image[0], 0, 255).astype('uint8')\n",
    "    scipy.misc.imsave(path, image)\n"
   ]
  },
  {
   "cell_type": "code",
   "execution_count": 19,
   "metadata": {
    "colab": {},
    "colab_type": "code",
    "id": "cacGfyccWUm8"
   },
   "outputs": [],
   "source": [
    "def compute_content_cost(a_C, a_G):\n",
    "    \"\"\"\n",
    "    Computes the content cost. a_C and a_G are tensors of shape (1, height, width, channels ). a_C is the \n",
    "    content of original image and a_G is content of generated image.\n",
    "    It returns a scalar quantity as cost.\n",
    "    \"\"\"\n",
    "\n",
    "    m, n_H, n_W, n_C = a_G.get_shape().as_list()\n",
    "    \n",
    "    # Reshape a_C and a_G and unroll the tensors. Before reshape it is required to use transpose because \n",
    "    # here we need to calculate the differences between corresponding channels of the \"content image\" and \"generated image\".\n",
    "    # i.e. the difference between channel 1 of \"content\" image and \"generated image\", difference between channel 2 of \"content image\" and\n",
    "    # \"generated image\" and so on.\n",
    "   \n",
    "    a_C_unrolled = tf.reshape(tf.transpose(a_C, perm=[0,3,1,2]), [m,n_C, n_H*n_W])\n",
    "    a_G_unrolled = tf.reshape(tf.transpose(a_G, perm=[0,3,1,2]), [m,n_C, n_H*n_W])\n",
    "    \n",
    "    # compute the cost as mentioned in the paper \"Neural Style Transfer\"\n",
    "    J_content = tf.divide(tf.reduce_sum(tf.reduce_sum(tf.square(tf.subtract(a_C_unrolled, a_G_unrolled)))),2)\n",
    "    \n",
    "\n",
    "    return J_content"
   ]
  },
  {
   "cell_type": "code",
   "execution_count": 20,
   "metadata": {
    "colab": {},
    "colab_type": "code",
    "id": "0r7Br0ZcWUnJ"
   },
   "outputs": [],
   "source": [
    "def gram_matrix(A):\n",
    "    \"\"\"\n",
    "    Calculate Gram matrix as mentioned in the problem statement.\n",
    "    Gram matrix basically gives a similarity measure between vectors. So here we need to find correlation\n",
    "    between different channels. i.e. how often any given activation of a channel occurs together with that same activation \n",
    "    but from a different channel. This will represent style of our image.\n",
    "    So input here is a matrix A of shape (channels, height x width). This because once we have our any given VGG layer in this form,\n",
    "    we can simply calculate \"GRAM\" matrix by taking dot products with transpose i.e. v.v'. This we will find correlation between different\n",
    "    channels of a given layer. If features correlate, then v.v' will be large or else small.\n",
    "    \n",
    "    Returns Gram matrix of A, of shape (channels, channels) because A is (channels, height x width) and A' will be (height x width, channels) and so A.A' will\n",
    "    be (channels, channels)\n",
    "    \"\"\"\n",
    "    GA = tf.matmul(A, tf.transpose(A))\n",
    "    \n",
    "    return GA"
   ]
  },
  {
   "cell_type": "code",
   "execution_count": 21,
   "metadata": {
    "colab": {},
    "colab_type": "code",
    "id": "A6iGdmgPWUnQ"
   },
   "outputs": [],
   "source": [
    "def compute_layer_style_cost(a_S, a_G):\n",
    "    \"\"\"\n",
    "    Computes the style cost. a_C and a_G are tensors of shape (1, height, width, channels ). a_S is a layer of VGG of\n",
    "    style image and a_G is that same layer of VGG but of generated image.\n",
    "    It returns a scalar quantity as cost similar to content cost function above\n",
    "    \"\"\"\n",
    "    \n",
    "    m, n_H, n_W, n_C = a_G.get_shape().as_list()\n",
    "    \n",
    "    # Similar to content cost do the following,\n",
    "    # Reshape a_S and a_G and unroll the tensors. Before reshape it is required to use transpose because \n",
    "    # here we need to calculate the differences between corresponding channels of the \"content image\" and \"generated image\".\n",
    "    # i.e. the difference between channel 1 of \"content\" image and \"generated image\", difference between channel 2 of \"content image\" and\n",
    "    # \"generated image\" and so on.\n",
    "    a_S = tf.reshape(tf.transpose(a_S, perm=[0,3,1,2]), [n_C, n_H*n_W])\n",
    "    a_G = tf.reshape(tf.transpose(a_G, perm=[0,3,1,2]), [n_C, n_H*n_W])\n",
    "\n",
    "    # Computing gram_matrices for both images S and G\n",
    "    GS = gram_matrix(a_S)\n",
    "    GG = gram_matrix(a_G)\n",
    "\n",
    "    # Compute the cost as Mean Squared Error (MSE) as mentioned in the problem statement.  \n",
    "    J_style_layer = tf.losses.mean_squared_error(GS, GG)\n",
    "    \n",
    "    # Here we could also use cost as mentioned in the paper \"Neural Style Transfer\".\n",
    "    # J_style_layer = tf.divide(tf.reduce_sum(tf.reduce_sum(tf.square(tf.subtract(GS, GG)))), 4 * tf.square(tf.to_float(n_C)) * tf.square(tf.to_float(n_H*n_W)))\n",
    "    \n",
    "    \n",
    "\n",
    "    \n",
    "    \n",
    "    return J_style_layer"
   ]
  },
  {
   "cell_type": "code",
   "execution_count": 22,
   "metadata": {
    "colab": {},
    "colab_type": "code",
    "id": "8dTdc6cIWUnW"
   },
   "outputs": [],
   "source": [
    "#As mentioned in the problem statement, style matrix can be calculated for different layers from VGG network. \n",
    "#Following layers will be be used.\n",
    "\n",
    "STYLE_LAYERS = [ ('conv1_1'), ('conv2_1'), ('conv3_1'), ('conv4_1'), ('conv5_1')]"
   ]
  },
  {
   "cell_type": "code",
   "execution_count": 23,
   "metadata": {
    "colab": {},
    "colab_type": "code",
    "id": "FTyMWxBdWUnc"
   },
   "outputs": [],
   "source": [
    "def compute_style_cost(model, STYLE_LAYERS):\n",
    "    \"\"\"\n",
    "    Computes the overall style cost from several chosen layers. model is the VGG model that is passed to get the layers.\n",
    "    Returns J_style which is overall style cost from selected layers as a scalar\n",
    "    \"\"\"\n",
    "    \n",
    "    # initialize the overall style cost\n",
    "    J_style = 0\n",
    "\n",
    "    for layer_name in STYLE_LAYERS:\n",
    "\n",
    "        # Select the output tensor of the currently selected layer\n",
    "        out = model[layer_name]\n",
    "\n",
    "        # Set a_S to be the hidden layer activation from the layer we have selected, by running the session on out. This is because the style from style image\n",
    "        # will be fixed through out training.\n",
    "        a_S = sess.run(out)\n",
    "\n",
    "        # Set a_G to be the hidden layer activation from same layer. Here, a_G references model[layer_name] \n",
    "        # and isn't evaluated.\n",
    "        a_G = out\n",
    "        \n",
    "        # Compute style_cost for the current layer\n",
    "        J_style_layer = compute_layer_style_cost(a_S, a_G)\n",
    "\n",
    "        # Add all J_style_layer for overall style cost\n",
    "        J_style += J_style_layer\n",
    "\n",
    "    return J_style\n"
   ]
  },
  {
   "cell_type": "code",
   "execution_count": 24,
   "metadata": {
    "colab": {},
    "colab_type": "code",
    "id": "tRPeIxIqEPAS"
   },
   "outputs": [],
   "source": [
    "def total_variation_cost(generated_image):\n",
    "  \"\"\"\n",
    "  As mentioned in problem statement, variation loss is also required which basically calculates the noise\n",
    "  present in the image by calculating differences of neighbouring pixel values in an image.\n",
    "  \n",
    "  Returns J_variation a scalar value which is sum of variation losses.\n",
    "  \"\"\"\n",
    "  \n",
    "  J_variation = tf.reduce_sum(tf.image.total_variation(generated_image))\n",
    "  \n",
    "  return J_variation"
   ]
  },
  {
   "cell_type": "code",
   "execution_count": 25,
   "metadata": {
    "colab": {},
    "colab_type": "code",
    "id": "zY919BFtWUng"
   },
   "outputs": [],
   "source": [
    "def total_cost(J_content, J_style, J_variation, alpha = 10, beta = 40):\n",
    "    \"\"\"\n",
    "    Computes the total cost function. alpha and beta are weights that basically decide how much importance \n",
    "    should be given to J_content and J_style\n",
    "    \n",
    "    Returns total cost J as scalar\n",
    "    \"\"\"\n",
    "    J = (alpha*J_content) + (beta*J_style) + J_variation\n",
    "    \n",
    "    return J\n"
   ]
  },
  {
   "cell_type": "code",
   "execution_count": 26,
   "metadata": {
    "colab": {},
    "colab_type": "code",
    "id": "dWKA83-PWUnn"
   },
   "outputs": [
    {
     "name": "stderr",
     "output_type": "stream",
     "text": [
      "/anaconda3/lib/python3.7/site-packages/tensorflow/python/client/session.py:1702: UserWarning: An interactive session is already active. This can cause out-of-memory errors in some cases. You must explicitly call `InteractiveSession.close()` to release resources held by the other session(s).\n",
      "  warnings.warn('An interactive session is already active. This can '\n"
     ]
    }
   ],
   "source": [
    "# From here, use the tensorflow constructs of resetting any default graph, using interactive session as it will automatically \n",
    "# create a default session. Also from here we start constructing our computation\n",
    "# graph by using our vgg model, then passing \"Content\" image and \"Style\" image to fix values in from respective layers inside our computation\n",
    "# graph. Only the generated image values will be dynamic which will keep changing during execution of the computation graph.\n",
    "\n",
    "tf.reset_default_graph()\n",
    "\n",
    "sess = tf.InteractiveSession()\n"
   ]
  },
  {
   "cell_type": "code",
   "execution_count": 27,
   "metadata": {
    "colab": {
     "base_uri": "https://localhost:8080/",
     "height": 153
    },
    "colab_type": "code",
    "id": "vV--rmTpWUnq",
    "outputId": "e13c4b1e-c0e7-4b47-ec56-7de0507f3e62"
   },
   "outputs": [
    {
     "name": "stderr",
     "output_type": "stream",
     "text": [
      "/anaconda3/lib/python3.7/site-packages/ipykernel_launcher.py:2: DeprecationWarning: `imread` is deprecated!\n",
      "`imread` is deprecated in SciPy 1.0.0, and will be removed in 1.2.0.\n",
      "Use ``imageio.imread`` instead.\n",
      "  \n",
      "/anaconda3/lib/python3.7/site-packages/ipykernel_launcher.py:7: DeprecationWarning: `imread` is deprecated!\n",
      "`imread` is deprecated in SciPy 1.0.0, and will be removed in 1.2.0.\n",
      "Use ``imageio.imread`` instead.\n",
      "  import sys\n"
     ]
    }
   ],
   "source": [
    "# Now read content image from google drive and normalize and reshape using helper function.\n",
    "content_image = scipy.misc.imread(\"japanese_garden_small.jpg\")\n",
    "content_image = reshape_and_normalize_image(content_image)\n",
    "\n",
    "\n",
    "# Same for style image\n",
    "style_image = scipy.misc.imread(\"picasso_selfportrait_small.jpg\")\n",
    "style_image = reshape_and_normalize_image(style_image)\n"
   ]
  },
  {
   "cell_type": "code",
   "execution_count": 40,
   "metadata": {
    "colab": {
     "base_uri": "https://localhost:8080/",
     "height": 303
    },
    "colab_type": "code",
    "id": "9G2Eo5sHWUnv",
    "outputId": "944ac5b3-d805-4023-b21b-787bea1034b9"
   },
   "outputs": [
    {
     "name": "stderr",
     "output_type": "stream",
     "text": [
      "Clipping input data to the valid range for imshow with RGB data ([0..1] for floats or [0..255] for integers).\n"
     ]
    },
    {
     "data": {
      "text/plain": [
       "<matplotlib.image.AxesImage at 0xb33b89a90>"
      ]
     },
     "execution_count": 40,
     "metadata": {},
     "output_type": "execute_result"
    },
    {
     "data": {
      "image/png": "[encoded data removed]",
      "text/plain": [
       "<Figure size 432x288 with 1 Axes>"
      ]
     },
     "metadata": {
      "needs_background": "light"
     },
     "output_type": "display_data"
    }
   ],
   "source": [
    "# Content Image without noise\n",
    "\n",
    "generated_image = generate_noise_image(content_image)\n",
    "imshow(generated_image[0])"
   ]
  },
  {
   "cell_type": "code",
   "execution_count": 29,
   "metadata": {},
   "outputs": [
    {
     "name": "stderr",
     "output_type": "stream",
     "text": [
      "Clipping input data to the valid range for imshow with RGB data ([0..1] for floats or [0..255] for integers).\n"
     ]
    },
    {
     "data": {
      "text/plain": [
       "<matplotlib.image.AxesImage at 0xb32c99dd8>"
      ]
     },
     "execution_count": 29,
     "metadata": {},
     "output_type": "execute_result"
    },
    {
     "data": {
      "image/png": "[encoded data removed]",
      "text/plain": [
       "<Figure size 432x288 with 1 Axes>"
      ]
     },
     "metadata": {
      "needs_background": "light"
     },
     "output_type": "display_data"
    }
   ],
   "source": [
    "# Content Image with some noise i.e. noise_ratio 0.8\n",
    "\n",
    "generated_image = generate_noise_image(content_image)\n",
    "imshow(generated_image[0])"
   ]
  },
  {
   "cell_type": "code",
   "execution_count": 30,
   "metadata": {
    "colab": {},
    "colab_type": "code",
    "id": "Odinjb_kWUnz"
   },
   "outputs": [
    {
     "name": "stdout",
     "output_type": "stream",
     "text": [
      "WARNING:tensorflow:From /anaconda3/lib/python3.7/site-packages/tensorflow/python/framework/op_def_library.py:263: colocate_with (from tensorflow.python.framework.ops) is deprecated and will be removed in a future version.\n",
      "Instructions for updating:\n",
      "Colocations handled automatically by placer.\n"
     ]
    }
   ],
   "source": [
    "# Load VGG19 model using helper function\n",
    "model = load_vgg_model()"
   ]
  },
  {
   "cell_type": "code",
   "execution_count": 31,
   "metadata": {
    "colab": {},
    "colab_type": "code",
    "id": "qPacXAJ2WUn5"
   },
   "outputs": [],
   "source": [
    "# In this cell, construct a node in computation graph which is \"compute_content_cost\". Also fix the layer\n",
    "# value of the original content in the node of the graph because only the content of generated image will\n",
    "# keep changing during graph execution.\n",
    "\n",
    "# Assign the content image to be the input of the VGG model.  \n",
    "sess.run(model['input'].assign(content_image))\n",
    "\n",
    "# Select the output tensor of layer conv4_2 because this is decided to be responsible for content representation.\n",
    "out = model['conv4_2']\n",
    "\n",
    "# Set a_C to be the hidden layer activation from the layer we have selected. We actually do sess.run on this, because we will use these value\n",
    "# and fix it inside the node of computation graph\n",
    "a_C = sess.run(out)\n",
    "\n",
    "\n",
    "# But for the content of generated image, we only reference the layer \"conv4_2\" and don't run sess.run on this. Because the a_G value will be \n",
    "# dynamic i.e. content of generated image will keep updating during backpropagation.\n",
    "a_G = out\n",
    "\n",
    "# Compute the content cost\n",
    "J_content = compute_content_cost(a_C, a_G)\n",
    "\n",
    "#So after all the above lines in this cell, a node will be created in our computation graph called \"compute_content_cost\"."
   ]
  },
  {
   "cell_type": "code",
   "execution_count": 32,
   "metadata": {
    "colab": {},
    "colab_type": "code",
    "id": "49nCOkFFWUn7"
   },
   "outputs": [
    {
     "name": "stdout",
     "output_type": "stream",
     "text": [
      "WARNING:tensorflow:From /anaconda3/lib/python3.7/site-packages/tensorflow/python/ops/losses/losses_impl.py:667: to_float (from tensorflow.python.ops.math_ops) is deprecated and will be removed in a future version.\n",
      "Instructions for updating:\n",
      "Use tf.cast instead.\n"
     ]
    }
   ],
   "source": [
    "# Similarly in this cell, construct a node in computation graph which is \"compute_style_cost\". Also fix the layer\n",
    "# value of the original style in the node of the graph because only the style of generated image will\n",
    "# keep changing during graph execution. This is done inside the \"compute_style_cost\" function itself.\n",
    "\n",
    "# Assign the input of the model to be the \"style\" image\n",
    "sess.run(model['input'].assign(style_image))\n",
    "\n",
    "# Compute the style cost\n",
    "J_style = compute_style_cost(model, STYLE_LAYERS)\n",
    "\n",
    "# After above 2 lines, a node called \"compute_style_cost\" will be created in our computation graph."
   ]
  },
  {
   "cell_type": "code",
   "execution_count": 33,
   "metadata": {
    "colab": {},
    "colab_type": "code",
    "id": "rqLjboHBhBWn"
   },
   "outputs": [],
   "source": [
    "# Similarly construct node in graph for \"total_variation_cost\". Simply create a variable of zeros same size as generated image.\n",
    "# Later when we run the graph, replace it with the latest generated image.\n",
    "gen_image = tf.Variable(np.zeros((1, 300, 400, 3)), dtype = 'float32')\n",
    "J_variation = total_variation_cost(gen_image)"
   ]
  },
  {
   "cell_type": "code",
   "execution_count": 34,
   "metadata": {
    "colab": {},
    "colab_type": "code",
    "id": "bx7IFdnWWUn-"
   },
   "outputs": [],
   "source": [
    "# Now create node for \"total_cost\" in computation graph.\n",
    "J = total_cost(alpha=10000, beta=10,J_content=J_content, J_style=J_style, J_variation=J_variation)\n"
   ]
  },
  {
   "cell_type": "code",
   "execution_count": 35,
   "metadata": {
    "colab": {},
    "colab_type": "code",
    "id": "txe5c_lJWUoA"
   },
   "outputs": [
    {
     "name": "stdout",
     "output_type": "stream",
     "text": [
      "WARNING:tensorflow:From /anaconda3/lib/python3.7/site-packages/tensorflow/python/ops/math_ops.py:3066: to_int32 (from tensorflow.python.ops.math_ops) is deprecated and will be removed in a future version.\n",
      "Instructions for updating:\n",
      "Use tf.cast instead.\n"
     ]
    }
   ],
   "source": [
    "# Use AdamOptimizer during backpropagation\n",
    "optimizer = tf.train.AdamOptimizer(2.0)\n",
    "\n",
    "train_step = optimizer.minimize(J)"
   ]
  },
  {
   "cell_type": "code",
   "execution_count": 36,
   "metadata": {
    "colab": {},
    "colab_type": "code",
    "id": "yt1lgT2mWUoC"
   },
   "outputs": [],
   "source": [
    "# Following function actually initializes variables of our graph, assigns the random generated image as input and \n",
    "# finally executes the computation graph.\n",
    "\n",
    "def model_nn(sess, input_image, num_iterations = 200):\n",
    "    # Initialize global variables\n",
    "    init = tf.global_variables_initializer()\n",
    "    sess.run(init)\n",
    "    \n",
    "    # Assign the random noisy image as input\n",
    "    sess.run(model['input'].assign(input_image))\n",
    "    \n",
    "    # Also assign the noisy image to gen_image to calculate variation cost\n",
    "    sess.run(tf.assign(gen_image, input_image))\n",
    "    \n",
    "    for i in range(num_iterations):\n",
    "    \n",
    "        # Run the session on the train_step to minimize the total cost\n",
    "        sess.run(train_step)\n",
    "        \n",
    "        # Compute the generated image by running the session on the current model['input']. \n",
    "        # The initial values change because of backpropagation.\n",
    "        generated_image = sess.run(model['input'])\n",
    "\n",
    "        # Assign the latest generated image to calculate variation cost\n",
    "        sess.run(tf.assign(gen_image, generated_image))\n",
    "        \n",
    "        # save generated image after every 20 iterations locally \n",
    "        if i%20 == 0:\n",
    "            # save current generated image locally\n",
    "            save_image(str(i) + \".png\", generated_image)\n",
    "    \n",
    "    \n",
    "    #Cost after 100 iterations\n",
    "    Jt, Jc, Js = sess.run([J, J_content, J_style])\n",
    "    print(\"Iteration \" + str(i) + \" :\")\n",
    "    print(\"total cost = \" + str(Jt))\n",
    "    print(\"content cost = \" + str(Jc))\n",
    "    print(\"style cost = \" + str(Js))\n",
    "    \n",
    "    return generated_image"
   ]
  },
  {
   "cell_type": "code",
   "execution_count": 38,
   "metadata": {
    "colab": {
     "base_uri": "https://localhost:8080/",
     "height": 1068
    },
    "colab_type": "code",
    "id": "OhMkQgspWUoG",
    "outputId": "17cd1d8f-6bfa-40d5-82a2-4f6c9ae31c2b",
    "scrolled": true
   },
   "outputs": [],
   "source": [
    "# Run the computational graph\n",
    "model_nn(sess, generated_image)"
   ]
  },
  {
   "cell_type": "markdown",
   "metadata": {},
   "source": [
    "### The output images are stored under directories \"generated_output_without_noise\" and \"generated_output_with_noise\"\n",
    "Images were stored after every 20 iterations. Total no.of interations was 200.<br>\n",
    "\"generated_output_without_noise\" folder consists of style applied to content image without noise. <br>\n",
    "\"generated_output_with_noise\" folder consists of style applied to content image with noise."
   ]
  },
  {
   "cell_type": "markdown",
   "metadata": {},
   "source": [
    "### Cost details without noise in content image:\n",
    "Iteration 199 :\n",
    "total cost = 1.0625515e+16\n",
    "content cost = 39688980000.0\n",
    "style cost = 354170600000000.0"
   ]
  },
  {
   "cell_type": "markdown",
   "metadata": {},
   "source": [
    "### Cost details with noise in content image:\n",
    "Iteration 199 :\n",
    "total cost = 4.8557423e+16\n",
    "content cost = 44521312000.0\n",
    "style cost = 1618565800000000.0"
   ]
  },
  {
   "cell_type": "markdown",
   "metadata": {},
   "source": [
    "# Project Summary:\n",
    "<pre>\n",
    "<h5>\n",
    "1.) This project is a great example of how deep pre-trained networks like VGG which is initially trained to do\n",
    "classification is used for completely different task like \"Style Transfer\". This is achieved by simply ignoring the last fully connected layers of VGG and only making use of feature representations of any layer before the\n",
    "fully-connected layers. So this shows that it is not always necessary to train huge networks from scratch.\n",
    "Instead we can use pre-trained networks in various ways.\n",
    "\n",
    "2.) The general idea was to create an image such that , \n",
    "Generated_Image = Content of one image + Style of another image.\n",
    "\n",
    "For this, to get the exact content of content image, it is preferred to select a deeper layer instead of \n",
    "shallow layer, as deep layers have higher level features, once we pass the content image into VGG.\n",
    "\n",
    "For the style, different layers of VGG networks were selected, once we pass style image into VGG. Then the \n",
    "style was represented using the concept of \"Gram\" matrix. Gram matrix is a type of similarity measure between\n",
    "vectors. So for a give style image, the gram matrix of that image at a given layer of VGG is the correlation\n",
    "between different channels in that layer. So if there are 3 channels at a given layer, then gram matrix will\n",
    "calculate the correlation between activation 1 of channel 1 and activation 1 of channel 2, similarly,\n",
    "correlation between activation 2 of channel 1 and activation 2 of channel 2 and so on.\n",
    "\n",
    "3.) Suppose for the \"Content Cost\" layer \"L\" was selected, then cost will be,\n",
    "    \n",
    "    Content_Cost = sum( (G[L] - C[L])^2 ) / 2,\n",
    "    \n",
    "    where \"G\" is generated image and \"C\" is content image.\n",
    "    \n",
    "    For \"Style Cost\", different layers are selected from VGG and for each layer the gram matrix is \n",
    "    calculated.\n",
    "    \n",
    "    Gram matrix of any two vectors is a.a' where a' is transpose of a. Then calculate the Mean Squared Error\n",
    "    of gram matrix between generated image and style image.\n",
    "    \n",
    "    Style_Cost = sum( (Gram(G) - Gram(S))^2 ) / N\n",
    "    where N is length of vector G or S because both should be same length.\n",
    "    \n",
    "    Also this has to be done for various layers, so \n",
    "    \n",
    "    total_style_cost = sum(style_cost of all layers).\n",
    "    \n",
    "    Finally, the total_cost is,\n",
    "    \n",
    "    total_cost = (alpha)*Content_Cost + (beta)*total_style_cost + total_variation_cost\n",
    "    where alpha and beta are simply weights deciding how much importance to be given to content and style.\n",
    "    total_variation_cost helped in removing noise from generated image.\n",
    "    \n",
    " 4.) As mentioned in the paper \"A neural algorithm for artistic style by Leon A. Gatys, Alexander S.Ecker,\n",
    " Mathias Bethge, better results were obtained by replacing the MaxPool layers with AveragePool in VGG19, so\n",
    " this is done in the helper function load_vgg_model().\n",
    " \n",
    " 5.) In the gram matrix, it can be seen that the diagonal of matrix will have high values because correlation\n",
    " is found between the same vector. This indicates how strong a feature is in that given layer.\n",
    " \n",
    " 6.) As mentioned in the problem statement, variation loss was also added to the total cost. This improved\n",
    " clarity of output images, as variation_loss reduces noise in the image.\n",
    " \n",
    " 7.) For the optimization part during backpropagation, \"AdamOptimizer\" was used over \"gradient descent\", as it reduces fluctuations during descent by using concept of moving average.\n",
    " \n",
    " 8.) For style cost, I used Mean Square Error. According to the paper, cost also has other normalization terms. This may not exactly improve quality of image, but will help in efficient learning.\n",
    " \n",
    " 9.) NOISE_RATIO constant was used to decide how much of noise will be in the initial content image.\n",
    " NOISE_RATIO of 1 will give complete randomly generated noise image. But learning becomes very difficult from\n",
    " here with many iterations. Without access to GPU, this will be time consuming. So by adding around 80% noise\n",
    " to content image, I was able to get reasonable results.\n",
    " \n",
    " 10.) Final generated images are under folder \"generated_output_with_noise\" and\n",
    " \"generated_output_without_noise\"\n",
    "</h5>\n",
    "</pre>\n"
   ]
  },
  {
   "cell_type": "markdown",
   "metadata": {},
   "source": [
    "<h2>Citations</h2>\n",
    "\"A neural algorithm for artistic style by Leon A. Gatys, Alexander S.Ecker, Mathias Bethge"
   ]
  },
  {
   "cell_type": "code",
   "execution_count": null,
   "metadata": {},
   "outputs": [],
   "source": []
  }
 ],
 "metadata": {
  "accelerator": "GPU",
  "colab": {
   "collapsed_sections": [
    "z3VoPH8CWUoO"
   ],
   "name": "Art+Generation+with+Neural+Style+Transfer+-+v2.ipynb",
   "provenance": [],
   "version": "0.3.2"
  },
  "kernelspec": {
   "display_name": "Python 3",
   "language": "python",
   "name": "python3"
  },
  "language_info": {
   "codemirror_mode": {
    "name": "ipython",
    "version": 3
   },
   "file_extension": ".py",
   "mimetype": "text/x-python",
   "name": "python",
   "nbconvert_exporter": "python",
   "pygments_lexer": "ipython3",
   "version": "3.7.1"
  }
 },
 "nbformat": 4,
 "nbformat_minor": 1
}
